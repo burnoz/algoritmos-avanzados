{
  "cells": [
    {
      "cell_type": "markdown",
      "metadata": {
        "id": "nJtTfc6hU8l1"
      },
      "source": [
        "# Imports\n",
        "\n",
        "Agrega librerias para la fila y creacion de copias de objetos"
      ]
    },
    {
      "cell_type": "code",
      "execution_count": 16,
      "metadata": {
        "id": "dldkZHU0UtWJ"
      },
      "outputs": [],
      "source": [
        "import queue\n",
        "import copy"
      ]
    },
    {
      "cell_type": "markdown",
      "metadata": {
        "id": "BD34WiYQU-9h"
      },
      "source": [
        "# Clase para representar soluciones\n",
        "\n",
        "Un objeto de la clase `Partial_Sol` incluye:  \n",
        "* la lista de objetos elegidos\n",
        "* el indice de la siguiente variable a instancias\n",
        "\n",
        "Para el problema knapsack:\n",
        "* valor acumulado\n",
        "* peso acumulado\n",
        "* upperbound potencial\n"
      ]
    },
    {
      "cell_type": "code",
      "execution_count": 17,
      "metadata": {
        "id": "TYOK6K1DU_s4"
      },
      "outputs": [],
      "source": [
        "class Partial_Sol:\n",
        "\n",
        "    def __init__(self, lista, upperbound):\n",
        "        self.lista = lista\n",
        "        self.indef_index = 0\n",
        "\n",
        "        self.valor = 0\n",
        "        self.peso = 0\n",
        "        self.ub = upperbound"
      ]
    },
    {
      "cell_type": "markdown",
      "metadata": {
        "id": "F9mLlZptVJ0H"
      },
      "source": []
    },
    {
      "cell_type": "code",
      "execution_count": 18,
      "metadata": {
        "id": "2RIbhqB2VKOI"
      },
      "outputs": [],
      "source": [
        "def extend(sol_padre, v, w):\n",
        "    # Crea soluciones hijas como copias de la solucion padre\n",
        "    hija1 = copy.deepcopy(sol_padre)\n",
        "    hija2 = copy.deepcopy(sol_padre)\n",
        "    \n",
        "    # Extiende las soluciones hijas instanciando su siguiente variable indefinida\n",
        "    # Luego actualiza el indef_index de las hijas\n",
        "    indice = sol_padre.indef_index\n",
        "    hija1.lista[indice] = 1\n",
        "    hija2.lista[indice] = 0\n",
        "\n",
        "    # Actualiza tambien el valor y peso de las sol hija\n",
        "    hija1.indef_index += 1\n",
        "    hija2.indef_index += 1\n",
        "\n",
        "    hija1.valor += v[indice]\n",
        "    hija1.peso += w[indice]\n",
        "\n",
        "    # Devuelve las hijas como una lista\n",
        "    return [hija1, hija2]\n"
      ]
    },
    {
      "cell_type": "markdown",
      "metadata": {
        "id": "_Pb5KEnsVpg5"
      },
      "source": [
        "# Evaluacion del upperbound\n",
        "\n",
        "Determina `best_ratio`: el mejor ratio de entre los objetos que aun estan indefinidos.\n",
        "\n",
        "Estimado optimistamente, cada una de las unidades de peso pendientes de asignar, podria ser ocupada por el mejor ratio\n",
        "\n"
      ]
    },
    {
      "cell_type": "code",
      "execution_count": 19,
      "metadata": {
        "id": "9OQ9z7UoVp2o"
      },
      "outputs": [],
      "source": [
        "# Recibe como parametros a la solucion, y las variables que representan al problema\n",
        "def evaluate(hija, K, R):\n",
        "    # Encuentra el mejor ratio (el mayor) de entre los objetos por decidir (los que todavia son -1)\n",
        "    indice = hija.indef_index\n",
        "\n",
        "    mejor_ratio = 0\n",
        "\n",
        "    if indice < len(R):\n",
        "        mejor_ratio = max(R[indice:])\n",
        "\n",
        "    # El upperbound ub es el valor actual + peso restante * mejor ratio potencial\n",
        "    ub = hija.valor + (K - hija.peso) * mejor_ratio\n",
        "\n",
        "  # Devuelve el upperbound calculado\n",
        "    return ub"
      ]
    },
    {
      "cell_type": "markdown",
      "metadata": {
        "id": "1ZzCGoLiVsNg"
      },
      "source": [
        "# El problema\n",
        "\n",
        "Define el problema:\n",
        "* vector de valores `V`,\n",
        "* pesos `W`,\n",
        "* la capacidad `K`,\n",
        "* numero de objetos `n`\n",
        "* vector de ratios de valor/peso `R`"
      ]
    },
    {
      "cell_type": "code",
      "execution_count": 20,
      "metadata": {
        "id": "jOBBKW0GVx-Z"
      },
      "outputs": [],
      "source": [
        "\n",
        "#\tKnapsack\n",
        "#   Valores V, pesos W, capacidad K y ratios R\n",
        "#   Numero de objetos n\n",
        "V = [40, 42, 25, 12 ]\n",
        "W = [ 4,  7,  5,  3 ]\n",
        "K = 10\n",
        "n = len(V)\n",
        "\n",
        "R = [V[i]/W[i] for i in range(n)]"
      ]
    },
    {
      "cell_type": "markdown",
      "metadata": {
        "id": "ydqnxGVyWYy_"
      },
      "source": [
        "# Solucion inicial"
      ]
    },
    {
      "cell_type": "code",
      "execution_count": 21,
      "metadata": {
        "id": "AZ_AYMCLWgLm"
      },
      "outputs": [],
      "source": [
        "\n",
        "# Crea un objeto de la clase de la solucion inicial\n",
        "\n",
        "root_sol = Partial_Sol([-1]*n, max(R)*K)\n",
        "\n",
        "# Crea e inicializa la fila de prioridad\n",
        "# La fila de prioridad requiere un par ordenado de prioridad y objeto\n",
        "q = queue.PriorityQueue()\n",
        "q.put( (0, root_sol )   )\n",
        "\n",
        "# best_so_far guardara la mejor solucion completa encontrada hasta el momento\n",
        "best_so_far = copy.deepcopy( root_sol )\n"
      ]
    },
    {
      "cell_type": "markdown",
      "metadata": {
        "id": "zGENc3yNWwJ_"
      },
      "source": [
        "# El ciclo principal\n",
        "\n",
        "Mientras la fila de prioridad no este vacia:\n",
        "    * Extrae una `solucion padre`\n",
        "    * Si su estimacion de costo mas optimista (el `upperbound`) es peor que el costo real de la solucion `best_so_far`, se ignora\n",
        "    * Si no, la solucion padre tiene potencial. Crea a sus `hijas`.\n",
        "    * Por cada hija:\n",
        "        * Revisa si es una solucion completamente definida, mejor que `best_so_far`. De ser asi, actualizala\n",
        "        * Si no esta completamente definida, pero es valida y tiene potencial de mejorar a best_so_far, ingresa en la fila, con `-h.ub` como prioridad"
      ]
    },
    {
      "cell_type": "code",
      "execution_count": 22,
      "metadata": {
        "id": "shYWT-hEWyTD"
      },
      "outputs": [
        {
          "name": "stdout",
          "output_type": "stream",
          "text": [
            "Ignorada por upperbound, valor: 40  upperbound: 64.0\n",
            "Ignorada por upperbound, valor: 0  upperbound: 60.0\n"
          ]
        }
      ],
      "source": [
        "\n",
        "while not q.empty():\n",
        "    # Extrae una solucion padre de la fila\n",
        "    # Usa q.get()[1] para obtener el segundo elemento del par ordenado\n",
        "    partial_sol = q.get()[1]\n",
        "\n",
        "    # Si la solucion padre tiene un upperbound peor que el valor de best_so_far, se ignora\n",
        "    if partial_sol.ub <= best_so_far.valor:\n",
        "        print(\"Ignorada por upperbound, valor:\", partial_sol.valor, \" upperbound:\", partial_sol.ub)\n",
        "    # Si no, crea a sus hijas\n",
        "    \n",
        "    else:\n",
        "        hijas = extend(partial_sol, V, W)\n",
        "\n",
        "        # Por cada hija\n",
        "        for h in hijas:\n",
        "            # Evalua y asigna su upperbound\n",
        "            h.ub = evaluate(h, K, R)\n",
        "\n",
        "            # Revisa si la sol hija esta completa, y ademas es valida y mejor que best_so_far\n",
        "            # En ese caso, actualiza best_so_far con la sol hija\n",
        "            if h.indef_index == n and h.peso <= K and h.valor > best_so_far.valor:\n",
        "                best_so_far = copy.deepcopy(h)\n",
        "\n",
        "            # Si la hija esta incompleta, es valida y su upperbound tiene el potencial\n",
        "            # de mejorar a best_so_far, ingresa en la fila, con -upperbound como prioridad\n",
        "            elif h.indef_index < n and h.peso <= K and h.ub > best_so_far.valor:\n",
        "                q.put((-h.ub, h))"
      ]
    },
    {
      "cell_type": "markdown",
      "metadata": {
        "id": "BdVAovMYdPXt"
      },
      "source": [
        "# Muestra el resultado de `best_so_far`"
      ]
    },
    {
      "cell_type": "code",
      "execution_count": 23,
      "metadata": {
        "id": "LPMIATdudTf7"
      },
      "outputs": [
        {
          "name": "stdout",
          "output_type": "stream",
          "text": [
            "\n",
            "La mejor sol: \n",
            "[1, 0, 1, 0] 65 9 65\n"
          ]
        }
      ],
      "source": [
        "print(\"\\nLa mejor sol: \")\n",
        "print(best_so_far.lista, best_so_far.valor, best_so_far.peso, best_so_far.ub)"
      ]
    }
  ],
  "metadata": {
    "colab": {
      "provenance": []
    },
    "kernelspec": {
      "display_name": ".venv",
      "language": "python",
      "name": "python3"
    },
    "language_info": {
      "codemirror_mode": {
        "name": "ipython",
        "version": 3
      },
      "file_extension": ".py",
      "mimetype": "text/x-python",
      "name": "python",
      "nbconvert_exporter": "python",
      "pygments_lexer": "ipython3",
      "version": "3.13.3"
    }
  },
  "nbformat": 4,
  "nbformat_minor": 0
}
