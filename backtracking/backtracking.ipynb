{
  "cells": [
    {
      "cell_type": "markdown",
      "metadata": {
        "id": "c7hmGU3v8Mzk"
      },
      "source": [
        "# Imports:\n",
        "\n",
        "Importa una libreria para crear la fila: import queue\n",
        "Importa una libreria para crear copias de objetos: import deepcopy"
      ]
    },
    {
      "cell_type": "code",
      "execution_count": null,
      "metadata": {
        "id": "AhUcjM3b8K6U"
      },
      "outputs": [],
      "source": [
        "import queue\n",
        "import copy"
      ]
    },
    {
      "cell_type": "markdown",
      "metadata": {
        "id": "6v49hTlU8fX7"
      },
      "source": [
        "#Clase para representar soluciones\n",
        "\n",
        "Crea una clase ``` Partial_Sol ``` para representar las soluciones parciales como objetos\n",
        "\n",
        "Como atributos requiere:\n",
        "\n",
        "\n",
        "1. Un arreglo de tamaño n que representa a la solucion, inicializado en -1\n",
        "2. Su costo, es decir, cuanto suma. Inicialmente es 0.\n",
        "3. El indice de su primer elemento indefinido. Inicia en 0.\n",
        "\n"
      ]
    },
    {
      "cell_type": "code",
      "execution_count": null,
      "metadata": {
        "id": "3YepjeFI9PnK"
      },
      "outputs": [],
      "source": [
        "# Esta clase representa a una solucion\n",
        "class Partial_Sol:\n",
        "    def __init__(self, lista, suma, indef_index):\n",
        "        self.lista = lista\n",
        "        self.suma = suma\n",
        "        self.indef_index = indef_index"
      ]
    },
    {
      "cell_type": "markdown",
      "metadata": {
        "id": "mOriU7Op9xGp"
      },
      "source": [
        "# Extender una solucion parcial\n",
        "\n",
        "Crea una funcion que extienda soluciones parciales: recibe una solución parcial, y devuelve las soluciones hijas resultado de instanciar una de las variables indefinidas\n",
        "\n",
        "\n",
        "Debe crear una solucion hija por cada valor en el rango de la variable indefinida.\n",
        "\n",
        "Ejemplo: [1, -1, -1, -1] tiene como hijas a [1, 0, -1, -1] y [1, 1, -1, -1], que resultan de instanciar la variable del indice 1 con los valores 1 y 0\n"
      ]
    },
    {
      "cell_type": "code",
      "execution_count": 42,
      "metadata": {
        "id": "bh5I5WBB9wiq"
      },
      "outputs": [],
      "source": [
        "def instantiate(parent, index, c):\n",
        "    # Crea soluciones hijas como copias de la solucion parent (usa deepcopy)\n",
        "    children_1 = copy.deepcopy(parent)\n",
        "    children_2 = copy.deepcopy(parent)\n",
        "\n",
        "    # Dale valores a la variable indefinida de cada hija\n",
        "    children_1.lista[index] = 0\n",
        "    children_2.lista[index] = 1\n",
        "\n",
        "    children_1.indef_index += 1\n",
        "    children_2.indef_index += 1\n",
        "    \n",
        "    # Actualiza el costo de cada solucion hija.\n",
        "    # En el caso del problema de sum set, actualiza la suma actual acumulada\n",
        "    children_2.suma += c[index] \n",
        "\n",
        "\n",
        "    # Devuelve una lista de las soluciones hijas\n",
        "    return [children_1, children_2]"
      ]
    },
    {
      "cell_type": "markdown",
      "metadata": {
        "id": "hj86mksG_lOU"
      },
      "source": [
        "# El problema: sum set\n",
        "\n",
        "Describe la instancia del problema\n",
        "\n",
        "\n",
        "*   El conjunto\n",
        "*   Su tamaño\n",
        "* El valor de la suma buscada `d`\n",
        "\n",
        "\n"
      ]
    },
    {
      "cell_type": "code",
      "execution_count": 43,
      "metadata": {
        "id": "TAfo1pmu_jza"
      },
      "outputs": [],
      "source": [
        "# Datos que representan a la instancia del sum set problem\n",
        "conjunto = [1,2,5,6,8]\n",
        "d = 8\n",
        "n = len(conjunto)"
      ]
    },
    {
      "cell_type": "markdown",
      "metadata": {
        "id": "aaRDKI16AUOd"
      },
      "source": [
        "# Backtracking: inicializacion\n",
        "\n",
        "Usa la clase `Partial_Sol` para crea una solucion inicial que sera la raiz.\n",
        "\n",
        "Represetala como una lista de n variables indefinidas. Usa -1 como marcador de \"indefinido\"  "
      ]
    },
    {
      "cell_type": "code",
      "execution_count": 44,
      "metadata": {
        "id": "yjBJQZPyAiA4"
      },
      "outputs": [],
      "source": [
        "\n",
        "# Usa el constructor de la clase, dandole como parametros:\n",
        "# 1. Una lista de las variables, todas indefinidas en -1\n",
        "# 2. Valor inicial de la suma\n",
        "# 3. Valor de la primer variable indefinida\n",
        "\n",
        "param = [-1 for i in range(n)]\n",
        "\n",
        "root_sol = Partial_Sol(param, 0, 0)"
      ]
    },
    {
      "cell_type": "markdown",
      "metadata": {
        "id": "K0m3ud9AA9vj"
      },
      "source": [
        "\n",
        "\n",
        "Crea una fila vacia usando `queue.Queue()`.\n",
        "\n",
        "Agrega a la fila la solucion raiz usando `q.put(param)`"
      ]
    },
    {
      "cell_type": "code",
      "execution_count": 45,
      "metadata": {
        "colab": {
          "base_uri": "https://localhost:8080/",
          "height": 106
        },
        "collapsed": true,
        "id": "GFiJ4pSxA9D6",
        "outputId": "f235a199-24c5-4346-e8e9-ae28a3b82ef7"
      },
      "outputs": [],
      "source": [
        "fila = queue.Queue()\n",
        "fila.put(root_sol)"
      ]
    },
    {
      "cell_type": "markdown",
      "metadata": {
        "id": "CykvnAohBDg0"
      },
      "source": [
        "# Backtraking: ciclo principal\n",
        "\n",
        "Crea un ciclo que, mientras la fila no este vacia, continue el proceso de:\n",
        "\n",
        "\n",
        "1.   Extraer la siguiente solucion de la fila\n",
        "2.   Generar y validas soluciones hijas\n",
        "3. Agregar las soluciones hijas a la fila\n",
        "4. Mostrar / guardar las soluciones encontradas que satisfacen el problema sum set\n",
        "\n"
      ]
    },
    {
      "cell_type": "code",
      "execution_count": 46,
      "metadata": {
        "id": "19xoRq3tBmnQ"
      },
      "outputs": [],
      "source": [
        "accepted = list()\n",
        "\n",
        "while not fila.empty():\n",
        "  # Obten una solucion de la fila (usando q.get() )\n",
        "  sol_parent = fila.get()\n",
        "\n",
        "  # Obten el indice de la variable indefinida de la solucion\n",
        "  index = sol_parent.indef_index\n",
        "\n",
        "  # Solo instancia hijos si quedan variables indefinidas\n",
        "  if index < n:\n",
        "    # Obten a sus soluciones hijas\n",
        "    children = instantiate(sol_parent, index, conjunto)\n",
        "\n",
        "    # 4. Verifica si cada hija es valida: lo es si no suma mas de d\n",
        "    # Si es valida, agregala a la fila\n",
        "    if children[0].suma <= d:\n",
        "      fila.put(children[0])\n",
        "\n",
        "    if children[1].suma <= d:\n",
        "      fila.put(children[1])\n",
        "\n",
        "    # Si una solucion hija suma exactamente d, es la solucion buscada\n",
        "    # Agregala a la lista acepted\n",
        "    if children[0].suma == d:\n",
        "      accepted.append(children[0])\n",
        "\n",
        "    if children[1].suma == d:\n",
        "      accepted.append(children[1])\n"
      ]
    },
    {
      "cell_type": "markdown",
      "metadata": {
        "id": "oICS7uvAvYd7"
      },
      "source": [
        "#Resultados\n",
        "Finaliza mostrando las soluciones guardadas en `acepted` y de-codificalas: usa los binarios para mostrar cuales miembros del conjunto original participan en la suma\n",
        "\n",
        "Ejemplo: [0, 0, 0, 0, 1]  es 8"
      ]
    },
    {
      "cell_type": "code",
      "execution_count": 47,
      "metadata": {
        "id": "FbMiM9elvXpH"
      },
      "outputs": [
        {
          "name": "stdout",
          "output_type": "stream",
          "text": [
            "[1, 1, 1, -1, -1]\n",
            "[0, 1, 0, 1, -1]\n",
            "[1, 1, 1, 0, -1]\n",
            "[0, 0, 0, 0, 1]\n",
            "[0, 1, 0, 1, 0]\n",
            "[1, 1, 1, 0, 0]\n"
          ]
        }
      ],
      "source": [
        "for i in range(len(accepted)):\n",
        "  print(accepted[i].lista)"
      ]
    }
  ],
  "metadata": {
    "colab": {
      "provenance": []
    },
    "kernelspec": {
      "display_name": ".venv",
      "language": "python",
      "name": "python3"
    },
    "language_info": {
      "codemirror_mode": {
        "name": "ipython",
        "version": 3
      },
      "file_extension": ".py",
      "mimetype": "text/x-python",
      "name": "python",
      "nbconvert_exporter": "python",
      "pygments_lexer": "ipython3",
      "version": "3.13.3"
    }
  },
  "nbformat": 4,
  "nbformat_minor": 0
}
