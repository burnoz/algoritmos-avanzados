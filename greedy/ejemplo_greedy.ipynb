{
  "cells": [
    {
      "cell_type": "code",
      "execution_count": 1,
      "metadata": {
        "id": "TnAl1Hfe2622"
      },
      "outputs": [],
      "source": [
        "# Encuentra el índice de un nodo no procesado con distancia mínima\n",
        "def findMin(procesado, distancia):\n",
        "\tminD = float('inf')\n",
        "\tindex = -1\n",
        "\t\n",
        "\tfor i in range(len(procesado)):\n",
        "\t\tif procesado[i] == 0 and distancia[i] < minD:\n",
        "\t\t\tminD = distancia[i]\n",
        "\t\t\tindex = i\n",
        "\t\n",
        "\treturn index\n",
        "\n",
        "def dikjstra(G):\n",
        "\tn = len(G)\n",
        "\n",
        "\tdistancia = [float('inf') for i in range(n)]\n",
        "\tdistancia[0] = 0        # asume que inicia en el nodo 0\n",
        "\n",
        "\tprocesado = [0 for i in range(n)]\n",
        "\tdesde = [0 for i in range(n)]\n",
        "\n",
        "\tfor _ in range(n):\n",
        "\t\t# Encuentra el nodo u: no procesado y con mínima distancia\n",
        "\t\tu = findMin(procesado, distancia)\n",
        "\t\tif u == -1:\n",
        "\t\t\tbreak\n",
        "\n",
        "\t\t# Marca u como procesado\n",
        "\t\tprocesado[u] = 1\n",
        "\n",
        "\t\t# Por cada vecino de u...\n",
        "\t\tfor v, peso in G[u]:\n",
        "\t\t\t# obtiene el valor de nueva distancia\n",
        "\t\t\tnueva_dis = distancia[u] + peso\n",
        "\n",
        "\t\t\t# actualiza el valor de distancia si la nueva es mejor\n",
        "\t\t\tif nueva_dis < distancia[v]:\n",
        "\t\t\t\tdistancia[v] = nueva_dis\n",
        "\t\t\t\tdesde[v] = u\n",
        "\n",
        "\t# Imprime la distancia\n",
        "\tprint(distancia)\n",
        "\t#print(desde)"
      ]
    },
    {
      "cell_type": "code",
      "execution_count": null,
      "metadata": {
        "id": "IVtmQsLS2xci"
      },
      "outputs": [
        {
          "name": "stdout",
          "output_type": "stream",
          "text": [
            "[0, 3, 2, 5, 6]\n"
          ]
        }
      ],
      "source": [
        "\n",
        "\n",
        "A = 0\n",
        "B = 1\n",
        "C = 2\n",
        "D = 3\n",
        "E = 4\n",
        "\n",
        "# Lista de nodos\n",
        "V = [A, B, C, D, E]\n",
        "\n",
        "# Vecinos de cada nodo, y peso de la arista\n",
        "G1 = {\tA: [[B, 4], [C, 2] ],\n",
        "\t\tB: [[C, 3], [D, 2], [E, 3] ],\n",
        "\t\tC: [[B, 1], [D, 4], [E, 5] ],\n",
        "\t\tD: [],\n",
        "\t\tE: [[D, 1]]  }  \n",
        "\n",
        "dikjstra(G1)"
      ]
    }
  ],
  "metadata": {
    "colab": {
      "provenance": []
    },
    "kernelspec": {
      "display_name": ".venv",
      "language": "python",
      "name": "python3"
    },
    "language_info": {
      "codemirror_mode": {
        "name": "ipython",
        "version": 3
      },
      "file_extension": ".py",
      "mimetype": "text/x-python",
      "name": "python",
      "nbconvert_exporter": "python",
      "pygments_lexer": "ipython3",
      "version": "3.13.3"
    }
  },
  "nbformat": 4,
  "nbformat_minor": 0
}
