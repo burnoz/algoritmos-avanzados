{
  "cells": [
    {
      "cell_type": "markdown",
      "metadata": {
        "id": "_TJYhF2ICkha"
      },
      "source": [
        "#Encodings con arboles de Huffman\n",
        "\n",
        "\n",
        "\n",
        "\n"
      ]
    },
    {
      "cell_type": "code",
      "execution_count": null,
      "metadata": {
        "id": "Ad5uxH88PpBs"
      },
      "outputs": [],
      "source": [
        "# Importa la estructura correcta...\n",
        "from queue import PriorityQueue"
      ]
    },
    {
      "cell_type": "markdown",
      "metadata": {
        "id": "IyDihq1iDEkn"
      },
      "source": [
        "# Una clase para los nodos de un arbol...\n",
        "\n",
        "Que informacion tenemos que guardar para cada nodo?\n",
        "\n",
        "\n",
        "* Tienen un caracter\n",
        "* Una probalidad asociada a ese caracter\n",
        "* Una etiqueta binaria (tag) : 0 o 1\n",
        "* Puede que tengan nodos hijos: izquierdo y derecho\n",
        "* O puede que sean hojas. Como sabremos que lo son?\n"
      ]
    },
    {
      "cell_type": "code",
      "execution_count": null,
      "metadata": {
        "id": "uafxbho_Cr7g"
      },
      "outputs": [],
      "source": [
        "class Nodo:\n",
        "  def __init__ (self, caracter, prob):\n",
        "    self.caracter = caracter\n",
        "    self.prob = prob\n",
        "\n",
        "    self.tag = -1\n",
        "\n",
        "\n",
        "    self.rigth = -1\n",
        "    self.left = -1\n",
        "\n",
        "\n"
      ]
    },
    {
      "cell_type": "markdown",
      "metadata": {
        "id": "AtuvHMWdDkxx"
      },
      "source": [
        "# Una clase arbol...\n",
        "\n",
        "Tiene un nodo raiz"
      ]
    },
    {
      "cell_type": "code",
      "execution_count": null,
      "metadata": {
        "id": "sRyOMSUfEyye"
      },
      "outputs": [],
      "source": [
        "class Arbol:\n",
        "\tdef __init__ (self, raiz ):\n",
        "\t\tself.raiz = raiz\n",
        "\n",
        "\t#\tFuncion para obtener los codigos\n",
        "\t# Los caracteres estan en las hojas del arbol\n",
        "\t# Sus codigos se obtienen a partir de los tags de los nodos desde la raiz hasta el nodo hoja\n",
        "\t# Como lo harias?\n",
        "    def get_codigos(self, raiz):\n",
        "        if raiz == -1:\n",
        "            return {}\n",
        "        if raiz.left == -1 and raiz.rigth == -1:\n",
        "            return {raiz.caracter: str(raiz.tag)}\n",
        "        \n",
        "        codigos = {}\n",
        "        if raiz.left != -1:\n",
        "            raiz.left.tag = 0\n",
        "            codigos.update(self.get_codigos(raiz.left))\n",
        "        if raiz.rigth != -1:\n",
        "            raiz.rigth.tag = 1\n",
        "            codigos.update(self.get_codigos(raiz.rigth))\n",
        "        \n",
        "        for k in codigos.keys():\n",
        "            codigos[k] = str(raiz.tag) + codigos[k]\n",
        "        \n",
        "        return codigos\n"
      ]
    },
    {
      "cell_type": "markdown",
      "metadata": {
        "id": "J-jZt_voCe_4"
      },
      "source": [
        "# Funcion para obtener los arboles de probabilidades minimas\n",
        "\n",
        "Una funcion para saber cuales dos arboles tienen la probabilidad minima\n",
        "\n"
      ]
    },
    {
      "cell_type": "code",
      "execution_count": null,
      "metadata": {
        "id": "1-Gk-2bAF9Jb"
      },
      "outputs": [],
      "source": [
        "# Recibe como parametro los arboles\n",
        "\n",
        "def min_probs ( arboles ):\n",
        "\n",
        "    # queremos los inidces de los 2 arboles con probabilidades minimas\n",
        "    # calculalos\n",
        "\n",
        "    arbol_min1 = arboles.get()[0]\n",
        "\n",
        "    arbol_min2 = arboles.get()[0]\n",
        "\n",
        "    # regresar ambos\n",
        "    return arbol_min1, arbol_min2\n"
      ]
    },
    {
      "cell_type": "markdown",
      "metadata": {
        "id": "HP29E6KFGmUK"
      },
      "source": [
        "# Una funcion qie reciba dos arboles y los fusione\n",
        "\n",
        "Que caracteristicas debe tener el arbol fusionado?\n",
        "\n",
        "\n",
        "\n",
        "*   Los hijos izquierdo y derecho son los nodos raiz de los arboles que se fusionan\n",
        "\n",
        "* Cuales etiquetas le corresponden a los hijos izquierdo y derecho?\n",
        "\n",
        "*   Cual es la probabilidad de la raiz para el arbol fusionado?\n",
        "*   Cual es el caracter? no tiene\n",
        "\n",
        "\n"
      ]
    },
    {
      "cell_type": "code",
      "execution_count": null,
      "metadata": {
        "id": "1kMMyvFjGr6d"
      },
      "outputs": [],
      "source": [
        "# Recibe como parametros los arboles a fusionar\n",
        "\n",
        "def merge_trees( a , b):\n",
        "    # Para crear un nuevo arbol que sea la fusion de a y b, necesitas crear primero su nodo raiz\n",
        "    # Calcula la probalidad que tendra el arbol nuevo: es la suma de las probs de a y b\n",
        "    # Y crea el nodo raiz para el arbol fusionado, usando un caracter auxiliar #\n",
        "\n",
        "    new_node = Nodo(\"\", a.raiz.prob + b.raiz.prob)\n",
        "\n",
        "    # Asigna los hijos izquierdo y derecho del nuevo nodo raiz\n",
        "    # Pista: son las raices de los arboles a fusionar\n",
        "    if a.raiz.prob == b.raiz.prob:\n",
        "        if a.raiz.caracter < b.raiz.caracter:\n",
        "            new_node.left = a.raiz\n",
        "            new_node.rigth = b.raiz\n",
        "        \n",
        "        else:\n",
        "            new_node.left = b.raiz\n",
        "            new_node.rigth = a.raiz\n",
        "\n",
        "    elif a.raiz.prob < b.raiz.prob:\n",
        "        new_node.left = a.raiz\n",
        "        new_node.rigth = b.raiz\n",
        "\n",
        "    else:\n",
        "        new_node.left = b.raiz\n",
        "        new_node.rigth = a.raiz\n",
        "\n",
        "    # Dale etiquetas a los nodos hijos: 0 y 1\n",
        "    new_node.left.tag = 0\n",
        "    new_node.rigth.tag = 1\n",
        "\n",
        "    # Ahora puedes crear el arbol usando el nodo raiz recien creado\n",
        "    new_tree = Arbol(new_node)\n",
        "\n",
        "    # Al final, regresa el arbol\n",
        "    return new_tree\n",
        "\n"
      ]
    },
    {
      "cell_type": "markdown",
      "metadata": {
        "id": "dZFKh5bLOk6c"
      },
      "source": [
        "# Funcion para crear el arbol de Huffman\n"
      ]
    },
    {
      "cell_type": "code",
      "execution_count": null,
      "metadata": {
        "id": "0YAimR_zOnPS"
      },
      "outputs": [],
      "source": [
        "def crea_huffman_tree(caracteres, probabilidades):\n",
        "\n",
        "  # Por caracter, crea un arbol y agregalo a la fila de prioridad\n",
        "  # Para poder crear un arbol, primero necesitas crear su nodo raiz, con su caracter y probabilidad\n",
        "\n",
        "  arboles =  PriorityQueue()\n",
        "  n = len(probabilidades)\n",
        "\n",
        "  for i in range(n):\n",
        "    node = Nodo(alfabeto[i], probabilidades[i])  # <-- crea el nodo\n",
        "    # Que falta?\n",
        "    # ??\n",
        "    arbol = Arbol(node)\n",
        "\n",
        "\n",
        "\n",
        "  # Mientras la fila tenga mas de un arbol...\n",
        "  # Elige los dos arboles con probailidades minimas y fusionalos\n",
        "\n",
        "  while  arboles.qsize() > 1   :\n",
        "    # Comienza por usar la funcion min_probs para encontrar\n",
        "    #  los arboles de la lista con probabilidades minimas\n",
        "    min_A, min_B = min_probs(arboles)\n",
        "\n",
        "\n",
        "    # Obten el arbol fusionado\n",
        "    arbol_fusionado = merge_trees(min_A, min_B)\n",
        "\n",
        "\n",
        "    # Actualiza la lista:\n",
        "    # remueve los arboles que se fusionaron y agrega el nuevo\n",
        "    # luego agrega el arbol fusionado a la lista\n",
        "    arboles.push((arbol_fusionado.raiz.prob, arbol_fusionado))\n",
        "\n",
        "    # Devuelve el arbol final\n",
        "    return arboles.get()[1]\n"
      ]
    },
    {
      "cell_type": "markdown",
      "metadata": {
        "id": "UoKK5ZRqcDJt"
      },
      "source": [
        "# Funcion para codificar"
      ]
    },
    {
      "cell_type": "code",
      "execution_count": null,
      "metadata": {
        "id": "6PAgXvOtcDw2"
      },
      "outputs": [],
      "source": [
        "# Codifica la cadena\n",
        "# En la cadena codificada cada caracter de la cadena original es sustituido por su codigo\n",
        "# Usa la tabla de codigos\n",
        "def encoding( cadena, tabla_codigos ):\n",
        "  pass\n"
      ]
    },
    {
      "cell_type": "markdown",
      "metadata": {
        "id": "t2M6TQ1hcKXA"
      },
      "source": [
        "#Funcion para decodificar"
      ]
    },
    {
      "cell_type": "code",
      "execution_count": null,
      "metadata": {
        "id": "o0GP6WFmcNzZ"
      },
      "outputs": [],
      "source": [
        "# Usa el arbol para decodificar un codigo\n",
        "# inicia en la raiz del arbol\n",
        "# Por cada caracter de la cadena codificada, te mueves hacia el nodo hijo izquierdo o derecho\n",
        "# Depediendo de si es 0 o 1\n",
        "# Si llegas a una hoja, ya decodificaste uno de los caracteres.\n",
        "# Guarda cual es.\n",
        "# Y continua desde la raiz del arbol.\n",
        "def decoding( cadena_codificada, arbol_huffman ):\n",
        "  pass"
      ]
    },
    {
      "cell_type": "markdown",
      "metadata": {
        "id": "9Kl4LdyPKIsK"
      },
      "source": [
        "#Seccion principal\n",
        "\n"
      ]
    },
    {
      "cell_type": "code",
      "execution_count": null,
      "metadata": {
        "id": "YvYd2Rw9L2qt"
      },
      "outputs": [],
      "source": [
        "# Instancia del problema\n",
        "# Recuerda que las probabilidades son las frecuencias de aparicion/numero de caracteres del texto original\n",
        "# Diferentes textos tienen diferentes probabilidades, y por lo tanto tendrian diferentes arboles\n",
        "\n",
        "# Este es un ejemplo pequeño, donde ya conocemos las probabilidades\n",
        "alfabeto = [\"A\", \"B\", \"C\", \"D\", \"E\"]\n",
        "probabilidades = [0.35, 0.1, 0.2, 0.2, 0.15 ]\n",
        "\n",
        "# Crea el arbol de Huffman\n",
        "#arbol_huffman = crea_huffman_tree(alfabeto, probabilidades)\n",
        "\n",
        "# Obten el codigo de cada caracter usando los tags de los nodos del arbol\n",
        "#tabla_codigos = arbol_huffman.get_codigos( )\n",
        "\n",
        "# Ahora puedes codificar y decodificar culaquier texto hecho de los caracteres del alfabeto\n",
        "prueba = \"ADADADA\"\n",
        "\n",
        "# prueba_codificada = encoding(prueba, tabla_codigos)\n",
        "\n",
        "# prueba_decodificada = decoding( prueba_codificada, arbol_huffman )\n",
        "\n",
        "\n",
        "\n",
        "\n"
      ]
    }
  ],
  "metadata": {
    "colab": {
      "provenance": []
    },
    "kernelspec": {
      "display_name": "Python 3",
      "name": "python3"
    },
    "language_info": {
      "name": "python"
    }
  },
  "nbformat": 4,
  "nbformat_minor": 0
}
