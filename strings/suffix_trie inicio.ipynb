{
  "cells": [
    {
      "cell_type": "markdown",
      "metadata": {
        "id": "QnQzwKPlKoGQ"
      },
      "source": [
        "#Clase Nodo\n",
        "\n",
        "Atributos:\n",
        "* el caracter del nodo\n",
        "* lista de indices donde aparece\n",
        "* si es o no un nodo final\n",
        "* nivel\n",
        "* lista de nodos hijos"
      ]
    },
    {
      "cell_type": "code",
      "execution_count": 18,
      "metadata": {
        "id": "SMDPW-bVKhgK"
      },
      "outputs": [],
      "source": [
        "class Nodo:\n",
        "\tdef __init__ ( self, caracter, final ):\n",
        "\t\tself.caracter = caracter\n",
        "\t\tself.indices = []\n",
        "\t\tself.es_final = final\n",
        "\t\tself.level = 0\n",
        "\n",
        "\t\tself.hijos = []"
      ]
    },
    {
      "cell_type": "markdown",
      "metadata": {
        "id": "GMZussxWSDyh"
      },
      "source": [
        "#Clase Trie"
      ]
    },
    {
      "cell_type": "code",
      "execution_count": 19,
      "metadata": {
        "id": "ibEO6avfYQa0"
      },
      "outputs": [],
      "source": [
        "# la clase del arbol.\n",
        "# Su unico atributo es el nodo raiz\n",
        "class Trie:\n",
        "    def __init__(self):\n",
        "        self.raiz = Nodo(\"#\", False)\n",
        "\n",
        "    # Nota que esta funcion pertenece a la clase trie,\n",
        "    # por ser una funcionalidad del arbol\n",
        "    def insertar(self, nodo, cadena, i, og_i):\n",
        "        cadena_len = len(cadena)\n",
        "        # Revisa si i es menor a la longuitud de la cadena....\n",
        "        if i < cadena_len:\n",
        "            # Revisa si algun hijo del nodo actual coincide con el caracter indice actual\n",
        "            # De ser asi, agrega el indice real del caracter a los indices del nodo hijo\n",
        "            for hijo in nodo.hijos:\n",
        "                if hijo.caracter == cadena[i]:\n",
        "                    hijo.indices.append(og_i + i)\n",
        "                    # Y crea una llamada recursiva nueva para el siguiente caracter\n",
        "                    # a partir del hijo\n",
        "                    self.insertar(hijo, cadena, i + 1, og_i)\n",
        "                    return\n",
        "\n",
        "            # Pero si ninguno fue igual, crea un hijo nuevo para el nodo actual\n",
        "            # Asigna los atributos del hijo: caracter,  indice, nivel, final\n",
        "            nuevo_hijo = Nodo(cadena[i], i == cadena_len - 1)\n",
        "            nuevo_hijo.indices.append(og_i + i)\n",
        "\n",
        "            # Y agregalo a la lista de hijos de nodo\n",
        "            nodo.hijos.append(nuevo_hijo)\n",
        "\n",
        "            # Por ultimo,  crea una llamada recursiva nueva para el siguiente caracter\n",
        "            self.insertar(nuevo_hijo, cadena, i + 1, og_i)\n",
        "\n",
        "            \n",
        "    # Recorrido in order para mostrar el arbol\n",
        "    def show_preorder(self, nodo):\n",
        "        print(\"\\nSoy \", nodo.caracter, \"existo en: \", nodo.indices, \"final\", nodo.es_final, \" lvl:\", nodo.level )\n",
        "        print(\"\\tHijos\", [h.caracter for h in nodo.hijos ] )\n",
        "\n",
        "        for h in nodo.hijos:\n",
        "            self.show_preorder(h)"
      ]
    },
    {
      "cell_type": "code",
      "execution_count": 20,
      "metadata": {
        "id": "2l7hSOXaYNVo"
      },
      "outputs": [],
      "source": [
        "# Version iterativa\n",
        "\n",
        "def insertar_iter(self, nodo, cadena, index):\n",
        "    pass\n",
        "# Iniciando en el nodo raiz...\n",
        "# mientras los nodos hagan match con la cadena...\n",
        "# agrega los indices a los nodos\n",
        "\n",
        "\n",
        "# Si ya no hay coincidencias, y quedan caracteres en la cadena\n",
        "# cointinua creando nodos nuevos para cada caracter pendiente..."
      ]
    },
    {
      "cell_type": "code",
      "execution_count": null,
      "metadata": {
        "id": "09Wvq_9bX1-0"
      },
      "outputs": [
        {
          "name": "stdout",
          "output_type": "stream",
          "text": [
            "['anabanana', 'nabanana', 'abanana', 'banana', 'anana', 'nana', 'ana', 'na', 'a']\n",
            "\n",
            "Soy  # existo en:  [] final False  lvl: 0\n",
            "\tHijos ['a', 'n', 'b']\n",
            "\n",
            "Soy  a existo en:  [0, 2, 4, 6, 8] final False  lvl: 0\n",
            "\tHijos ['n', 'b']\n",
            "\n",
            "Soy  n existo en:  [1, 5, 7] final False  lvl: 0\n",
            "\tHijos ['a']\n",
            "\n",
            "Soy  a existo en:  [2, 6, 8] final False  lvl: 0\n",
            "\tHijos ['b', 'n']\n",
            "\n",
            "Soy  b existo en:  [3] final False  lvl: 0\n",
            "\tHijos ['a']\n",
            "\n",
            "Soy  a existo en:  [4] final False  lvl: 0\n",
            "\tHijos ['n']\n",
            "\n",
            "Soy  n existo en:  [5] final False  lvl: 0\n",
            "\tHijos ['a']\n",
            "\n",
            "Soy  a existo en:  [6] final False  lvl: 0\n",
            "\tHijos ['n']\n",
            "\n",
            "Soy  n existo en:  [7] final False  lvl: 0\n",
            "\tHijos ['a']\n",
            "\n",
            "Soy  a existo en:  [8] final True  lvl: 0\n",
            "\tHijos []\n",
            "\n",
            "Soy  n existo en:  [7] final False  lvl: 0\n",
            "\tHijos ['a']\n",
            "\n",
            "Soy  a existo en:  [8] final True  lvl: 0\n",
            "\tHijos []\n",
            "\n",
            "Soy  b existo en:  [3] final False  lvl: 0\n",
            "\tHijos ['a']\n",
            "\n",
            "Soy  a existo en:  [4] final False  lvl: 0\n",
            "\tHijos ['n']\n",
            "\n",
            "Soy  n existo en:  [5] final False  lvl: 0\n",
            "\tHijos ['a']\n",
            "\n",
            "Soy  a existo en:  [6] final False  lvl: 0\n",
            "\tHijos ['n']\n",
            "\n",
            "Soy  n existo en:  [7] final False  lvl: 0\n",
            "\tHijos ['a']\n",
            "\n",
            "Soy  a existo en:  [8] final True  lvl: 0\n",
            "\tHijos []\n",
            "\n",
            "Soy  n existo en:  [1, 5, 7] final False  lvl: 0\n",
            "\tHijos ['a']\n",
            "\n",
            "Soy  a existo en:  [2, 6, 8] final False  lvl: 0\n",
            "\tHijos ['b', 'n']\n",
            "\n",
            "Soy  b existo en:  [3] final False  lvl: 0\n",
            "\tHijos ['a']\n",
            "\n",
            "Soy  a existo en:  [4] final False  lvl: 0\n",
            "\tHijos ['n']\n",
            "\n",
            "Soy  n existo en:  [5] final False  lvl: 0\n",
            "\tHijos ['a']\n",
            "\n",
            "Soy  a existo en:  [6] final False  lvl: 0\n",
            "\tHijos ['n']\n",
            "\n",
            "Soy  n existo en:  [7] final False  lvl: 0\n",
            "\tHijos ['a']\n",
            "\n",
            "Soy  a existo en:  [8] final True  lvl: 0\n",
            "\tHijos []\n",
            "\n",
            "Soy  n existo en:  [7] final False  lvl: 0\n",
            "\tHijos ['a']\n",
            "\n",
            "Soy  a existo en:  [8] final True  lvl: 0\n",
            "\tHijos []\n",
            "\n",
            "Soy  b existo en:  [3] final False  lvl: 0\n",
            "\tHijos ['a']\n",
            "\n",
            "Soy  a existo en:  [4] final False  lvl: 0\n",
            "\tHijos ['n']\n",
            "\n",
            "Soy  n existo en:  [5] final False  lvl: 0\n",
            "\tHijos ['a']\n",
            "\n",
            "Soy  a existo en:  [6] final False  lvl: 0\n",
            "\tHijos ['n']\n",
            "\n",
            "Soy  n existo en:  [7] final False  lvl: 0\n",
            "\tHijos ['a']\n",
            "\n",
            "Soy  a existo en:  [8] final True  lvl: 0\n",
            "\tHijos []\n"
          ]
        }
      ],
      "source": [
        "palabra = \"anabanana\"\n",
        "n = len(palabra)\n",
        "\n",
        "sufijos = [ palabra[i:] for i in range(n) ]\n",
        "print(sufijos)\n",
        "\n",
        "trie = Trie()\n",
        "for i in range( len(sufijos) ):\n",
        "\ttrie.insertar(trie.raiz, sufijos[i], 0, i)\n",
        "\t#trie.insertar_iter(trie.raiz, sufijos[i], i)\n",
        "\n",
        "trie.show_preorder( trie.raiz )"
      ]
    },
    {
      "cell_type": "markdown",
      "metadata": {
        "id": "DjTlmbl6KmZd"
      },
      "source": []
    }
  ],
  "metadata": {
    "colab": {
      "provenance": []
    },
    "kernelspec": {
      "display_name": ".venv",
      "language": "python",
      "name": "python3"
    },
    "language_info": {
      "codemirror_mode": {
        "name": "ipython",
        "version": 3
      },
      "file_extension": ".py",
      "mimetype": "text/x-python",
      "name": "python",
      "nbconvert_exporter": "python",
      "pygments_lexer": "ipython3",
      "version": "3.13.3"
    }
  },
  "nbformat": 4,
  "nbformat_minor": 0
}
